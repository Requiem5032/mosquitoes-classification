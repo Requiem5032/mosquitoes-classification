{
 "cells": [
  {
   "cell_type": "code",
   "execution_count": 1,
   "metadata": {},
   "outputs": [
    {
     "name": "stderr",
     "output_type": "stream",
     "text": [
      "2023-10-18 21:21:18.873160: I tensorflow/core/util/port.cc:111] oneDNN custom operations are on. You may see slightly different numerical results due to floating-point round-off errors from different computation orders. To turn them off, set the environment variable `TF_ENABLE_ONEDNN_OPTS=0`.\n",
      "2023-10-18 21:21:18.874828: I tensorflow/tsl/cuda/cudart_stub.cc:28] Could not find cuda drivers on your machine, GPU will not be used.\n",
      "2023-10-18 21:21:18.899845: E tensorflow/compiler/xla/stream_executor/cuda/cuda_dnn.cc:9342] Unable to register cuDNN factory: Attempting to register factory for plugin cuDNN when one has already been registered\n",
      "2023-10-18 21:21:18.899880: E tensorflow/compiler/xla/stream_executor/cuda/cuda_fft.cc:609] Unable to register cuFFT factory: Attempting to register factory for plugin cuFFT when one has already been registered\n",
      "2023-10-18 21:21:18.899899: E tensorflow/compiler/xla/stream_executor/cuda/cuda_blas.cc:1518] Unable to register cuBLAS factory: Attempting to register factory for plugin cuBLAS when one has already been registered\n",
      "2023-10-18 21:21:18.904659: I tensorflow/tsl/cuda/cudart_stub.cc:28] Could not find cuda drivers on your machine, GPU will not be used.\n",
      "2023-10-18 21:21:18.905100: I tensorflow/core/platform/cpu_feature_guard.cc:182] This TensorFlow binary is optimized to use available CPU instructions in performance-critical operations.\n",
      "To enable the following instructions: AVX2 AVX512F AVX512_VNNI FMA, in other operations, rebuild TensorFlow with the appropriate compiler flags.\n",
      "2023-10-18 21:21:19.470970: W tensorflow/compiler/tf2tensorrt/utils/py_utils.cc:38] TF-TRT Warning: Could not find TensorRT\n"
     ]
    }
   ],
   "source": [
    "# Import libraries\n",
    "import os\n",
    "import cv2\n",
    "import tensorflow as tf\n",
    "import numpy as np\n",
    "import matplotlib.pyplot as plt\n",
    "\n",
    "from tensorflow.keras.saving import load_model"
   ]
  },
  {
   "cell_type": "code",
   "execution_count": 2,
   "metadata": {},
   "outputs": [],
   "source": [
    "# Set directories\n",
    "root_dir = os.getcwd()\n",
    "data_dir = os.path.join(root_dir, \"mosquitoes-dataset\")\n",
    "model_dir = os.path.join(root_dir, \"models\")\n",
    "test_dir = os.path.join(root_dir, \"test-dataset\")"
   ]
  },
  {
   "cell_type": "code",
   "execution_count": 3,
   "metadata": {},
   "outputs": [],
   "source": [
    "# Class name\n",
    "class_names = os.listdir(data_dir)"
   ]
  },
  {
   "cell_type": "code",
   "execution_count": 4,
   "metadata": {},
   "outputs": [],
   "source": [
    "model = load_model(os.path.join(model_dir, \"pretrained_model.keras\"))"
   ]
  },
  {
   "cell_type": "code",
   "execution_count": 6,
   "metadata": {},
   "outputs": [
    {
     "data": {
      "text/plain": [
       "' IMG_SIZE = (160, 160)\\n\\nplt.figure(figsize=(20, 20))\\nfor index, image in enumerate(os.listdir(test_dir)):\\n    img = cv2.imread(os.path.join(test_dir, image))\\n    img = cv2.cvtColor(img, cv2.COLOR_BGR2RGB)\\n    img = tf.image.resize(img, IMG_SIZE)\\n\\n    yhat = model.predict(np.expand_dims(img, 0))\\n    yhat = tf.nn.sigmoid(yhat[0])\\n    yhat = tf.where(yhat < 0.5, 0, 1)\\n    yhat = np.array(yhat)\\n    plt.subplot(10, 5, index + 1)\\n    plt.imshow(img.numpy().astype(\\'uint8\\'))\\n    plt.title(class_names[yhat[0]])\\n    plt.axis(\"off\") '"
      ]
     },
     "execution_count": 6,
     "metadata": {},
     "output_type": "execute_result"
    }
   ],
   "source": [
    "IMG_SIZE = (160, 160)\n",
    "\n",
    "plt.figure(figsize=(20, 20))\n",
    "for index, image in enumerate(os.listdir(test_dir)):\n",
    "    img = cv2.imread(os.path.join(test_dir, image))\n",
    "    img = cv2.cvtColor(img, cv2.COLOR_BGR2RGB)\n",
    "    img = tf.image.resize(img, IMG_SIZE)\n",
    "\n",
    "    yhat = model.predict(np.expand_dims(img, 0))\n",
    "    yhat = tf.nn.sigmoid(yhat[0])\n",
    "    yhat = tf.where(yhat < 0.5, 0, 1)\n",
    "    yhat = np.array(yhat)\n",
    "    plt.subplot(10, 5, index + 1)\n",
    "    plt.imshow(img.numpy().astype('uint8'))\n",
    "    plt.title(class_names[yhat[0]])\n",
    "    plt.axis(\"off\")"
   ]
  }
 ],
 "metadata": {
  "kernelspec": {
   "display_name": "py-env",
   "language": "python",
   "name": "python3"
  },
  "language_info": {
   "codemirror_mode": {
    "name": "ipython",
    "version": 3
   },
   "file_extension": ".py",
   "mimetype": "text/x-python",
   "name": "python",
   "nbconvert_exporter": "python",
   "pygments_lexer": "ipython3",
   "version": "3.11.5"
  }
 },
 "nbformat": 4,
 "nbformat_minor": 2
}
